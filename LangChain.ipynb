{
  "nbformat": 4,
  "nbformat_minor": 0,
  "metadata": {
    "colab": {
      "provenance": [],
      "gpuType": "T4"
    },
    "kernelspec": {
      "name": "python3",
      "display_name": "Python 3"
    },
    "language_info": {
      "name": "python"
    },
    "accelerator": "GPU",
    "widgets": {
      "application/vnd.jupyter.widget-state+json": {
        "8cc6d10200c244fbb5764805ddabfd6a": {
          "model_module": "@jupyter-widgets/controls",
          "model_name": "HBoxModel",
          "model_module_version": "1.5.0",
          "state": {
            "_dom_classes": [],
            "_model_module": "@jupyter-widgets/controls",
            "_model_module_version": "1.5.0",
            "_model_name": "HBoxModel",
            "_view_count": null,
            "_view_module": "@jupyter-widgets/controls",
            "_view_module_version": "1.5.0",
            "_view_name": "HBoxView",
            "box_style": "",
            "children": [
              "IPY_MODEL_b74a26a842554de89eeed165e33aa222",
              "IPY_MODEL_24f7008bada94f8caba1210c295af01e",
              "IPY_MODEL_61f912a673fd4acca559272353e91438"
            ],
            "layout": "IPY_MODEL_560cb505caa84b7bbcb99075983a855c"
          }
        },
        "b74a26a842554de89eeed165e33aa222": {
          "model_module": "@jupyter-widgets/controls",
          "model_name": "HTMLModel",
          "model_module_version": "1.5.0",
          "state": {
            "_dom_classes": [],
            "_model_module": "@jupyter-widgets/controls",
            "_model_module_version": "1.5.0",
            "_model_name": "HTMLModel",
            "_view_count": null,
            "_view_module": "@jupyter-widgets/controls",
            "_view_module_version": "1.5.0",
            "_view_name": "HTMLView",
            "description": "",
            "description_tooltip": null,
            "layout": "IPY_MODEL_49fad07e389a4dc9a940c32d140f61ae",
            "placeholder": "​",
            "style": "IPY_MODEL_c8242137a980454b91c469a0bdbff7f4",
            "value": "Loading checkpoint shards: 100%"
          }
        },
        "24f7008bada94f8caba1210c295af01e": {
          "model_module": "@jupyter-widgets/controls",
          "model_name": "FloatProgressModel",
          "model_module_version": "1.5.0",
          "state": {
            "_dom_classes": [],
            "_model_module": "@jupyter-widgets/controls",
            "_model_module_version": "1.5.0",
            "_model_name": "FloatProgressModel",
            "_view_count": null,
            "_view_module": "@jupyter-widgets/controls",
            "_view_module_version": "1.5.0",
            "_view_name": "ProgressView",
            "bar_style": "success",
            "description": "",
            "description_tooltip": null,
            "layout": "IPY_MODEL_95345ae448164f30b365bc05c6f1a256",
            "max": 2,
            "min": 0,
            "orientation": "horizontal",
            "style": "IPY_MODEL_af7ae10f70544238a6fb9fea3c52481c",
            "value": 2
          }
        },
        "61f912a673fd4acca559272353e91438": {
          "model_module": "@jupyter-widgets/controls",
          "model_name": "HTMLModel",
          "model_module_version": "1.5.0",
          "state": {
            "_dom_classes": [],
            "_model_module": "@jupyter-widgets/controls",
            "_model_module_version": "1.5.0",
            "_model_name": "HTMLModel",
            "_view_count": null,
            "_view_module": "@jupyter-widgets/controls",
            "_view_module_version": "1.5.0",
            "_view_name": "HTMLView",
            "description": "",
            "description_tooltip": null,
            "layout": "IPY_MODEL_78e8e80f3d8145a5ba039082c3895448",
            "placeholder": "​",
            "style": "IPY_MODEL_1c4338184ce245a7b6029d78ca46f418",
            "value": " 2/2 [01:07&lt;00:00, 31.53s/it]"
          }
        },
        "560cb505caa84b7bbcb99075983a855c": {
          "model_module": "@jupyter-widgets/base",
          "model_name": "LayoutModel",
          "model_module_version": "1.2.0",
          "state": {
            "_model_module": "@jupyter-widgets/base",
            "_model_module_version": "1.2.0",
            "_model_name": "LayoutModel",
            "_view_count": null,
            "_view_module": "@jupyter-widgets/base",
            "_view_module_version": "1.2.0",
            "_view_name": "LayoutView",
            "align_content": null,
            "align_items": null,
            "align_self": null,
            "border": null,
            "bottom": null,
            "display": null,
            "flex": null,
            "flex_flow": null,
            "grid_area": null,
            "grid_auto_columns": null,
            "grid_auto_flow": null,
            "grid_auto_rows": null,
            "grid_column": null,
            "grid_gap": null,
            "grid_row": null,
            "grid_template_areas": null,
            "grid_template_columns": null,
            "grid_template_rows": null,
            "height": null,
            "justify_content": null,
            "justify_items": null,
            "left": null,
            "margin": null,
            "max_height": null,
            "max_width": null,
            "min_height": null,
            "min_width": null,
            "object_fit": null,
            "object_position": null,
            "order": null,
            "overflow": null,
            "overflow_x": null,
            "overflow_y": null,
            "padding": null,
            "right": null,
            "top": null,
            "visibility": null,
            "width": null
          }
        },
        "49fad07e389a4dc9a940c32d140f61ae": {
          "model_module": "@jupyter-widgets/base",
          "model_name": "LayoutModel",
          "model_module_version": "1.2.0",
          "state": {
            "_model_module": "@jupyter-widgets/base",
            "_model_module_version": "1.2.0",
            "_model_name": "LayoutModel",
            "_view_count": null,
            "_view_module": "@jupyter-widgets/base",
            "_view_module_version": "1.2.0",
            "_view_name": "LayoutView",
            "align_content": null,
            "align_items": null,
            "align_self": null,
            "border": null,
            "bottom": null,
            "display": null,
            "flex": null,
            "flex_flow": null,
            "grid_area": null,
            "grid_auto_columns": null,
            "grid_auto_flow": null,
            "grid_auto_rows": null,
            "grid_column": null,
            "grid_gap": null,
            "grid_row": null,
            "grid_template_areas": null,
            "grid_template_columns": null,
            "grid_template_rows": null,
            "height": null,
            "justify_content": null,
            "justify_items": null,
            "left": null,
            "margin": null,
            "max_height": null,
            "max_width": null,
            "min_height": null,
            "min_width": null,
            "object_fit": null,
            "object_position": null,
            "order": null,
            "overflow": null,
            "overflow_x": null,
            "overflow_y": null,
            "padding": null,
            "right": null,
            "top": null,
            "visibility": null,
            "width": null
          }
        },
        "c8242137a980454b91c469a0bdbff7f4": {
          "model_module": "@jupyter-widgets/controls",
          "model_name": "DescriptionStyleModel",
          "model_module_version": "1.5.0",
          "state": {
            "_model_module": "@jupyter-widgets/controls",
            "_model_module_version": "1.5.0",
            "_model_name": "DescriptionStyleModel",
            "_view_count": null,
            "_view_module": "@jupyter-widgets/base",
            "_view_module_version": "1.2.0",
            "_view_name": "StyleView",
            "description_width": ""
          }
        },
        "95345ae448164f30b365bc05c6f1a256": {
          "model_module": "@jupyter-widgets/base",
          "model_name": "LayoutModel",
          "model_module_version": "1.2.0",
          "state": {
            "_model_module": "@jupyter-widgets/base",
            "_model_module_version": "1.2.0",
            "_model_name": "LayoutModel",
            "_view_count": null,
            "_view_module": "@jupyter-widgets/base",
            "_view_module_version": "1.2.0",
            "_view_name": "LayoutView",
            "align_content": null,
            "align_items": null,
            "align_self": null,
            "border": null,
            "bottom": null,
            "display": null,
            "flex": null,
            "flex_flow": null,
            "grid_area": null,
            "grid_auto_columns": null,
            "grid_auto_flow": null,
            "grid_auto_rows": null,
            "grid_column": null,
            "grid_gap": null,
            "grid_row": null,
            "grid_template_areas": null,
            "grid_template_columns": null,
            "grid_template_rows": null,
            "height": null,
            "justify_content": null,
            "justify_items": null,
            "left": null,
            "margin": null,
            "max_height": null,
            "max_width": null,
            "min_height": null,
            "min_width": null,
            "object_fit": null,
            "object_position": null,
            "order": null,
            "overflow": null,
            "overflow_x": null,
            "overflow_y": null,
            "padding": null,
            "right": null,
            "top": null,
            "visibility": null,
            "width": null
          }
        },
        "af7ae10f70544238a6fb9fea3c52481c": {
          "model_module": "@jupyter-widgets/controls",
          "model_name": "ProgressStyleModel",
          "model_module_version": "1.5.0",
          "state": {
            "_model_module": "@jupyter-widgets/controls",
            "_model_module_version": "1.5.0",
            "_model_name": "ProgressStyleModel",
            "_view_count": null,
            "_view_module": "@jupyter-widgets/base",
            "_view_module_version": "1.2.0",
            "_view_name": "StyleView",
            "bar_color": null,
            "description_width": ""
          }
        },
        "78e8e80f3d8145a5ba039082c3895448": {
          "model_module": "@jupyter-widgets/base",
          "model_name": "LayoutModel",
          "model_module_version": "1.2.0",
          "state": {
            "_model_module": "@jupyter-widgets/base",
            "_model_module_version": "1.2.0",
            "_model_name": "LayoutModel",
            "_view_count": null,
            "_view_module": "@jupyter-widgets/base",
            "_view_module_version": "1.2.0",
            "_view_name": "LayoutView",
            "align_content": null,
            "align_items": null,
            "align_self": null,
            "border": null,
            "bottom": null,
            "display": null,
            "flex": null,
            "flex_flow": null,
            "grid_area": null,
            "grid_auto_columns": null,
            "grid_auto_flow": null,
            "grid_auto_rows": null,
            "grid_column": null,
            "grid_gap": null,
            "grid_row": null,
            "grid_template_areas": null,
            "grid_template_columns": null,
            "grid_template_rows": null,
            "height": null,
            "justify_content": null,
            "justify_items": null,
            "left": null,
            "margin": null,
            "max_height": null,
            "max_width": null,
            "min_height": null,
            "min_width": null,
            "object_fit": null,
            "object_position": null,
            "order": null,
            "overflow": null,
            "overflow_x": null,
            "overflow_y": null,
            "padding": null,
            "right": null,
            "top": null,
            "visibility": null,
            "width": null
          }
        },
        "1c4338184ce245a7b6029d78ca46f418": {
          "model_module": "@jupyter-widgets/controls",
          "model_name": "DescriptionStyleModel",
          "model_module_version": "1.5.0",
          "state": {
            "_model_module": "@jupyter-widgets/controls",
            "_model_module_version": "1.5.0",
            "_model_name": "DescriptionStyleModel",
            "_view_count": null,
            "_view_module": "@jupyter-widgets/base",
            "_view_module_version": "1.2.0",
            "_view_name": "StyleView",
            "description_width": ""
          }
        }
      }
    }
  },
  "cells": [
    {
      "cell_type": "code",
      "source": [
        "!pip install -q transformers einops accelerate langchain bitsandbytes\n",
        "!pip install streamlit"
      ],
      "metadata": {
        "id": "5gIc6NlQ0f1E"
      },
      "execution_count": null,
      "outputs": []
    },
    {
      "cell_type": "code",
      "source": [
        "%%writefile main.py\n",
        "from langchain import HuggingFacePipeline\n",
        "from transformers import AutoTokenizer, pipeline\n",
        "import torch\n",
        "from langchain.prompts import PromptTemplate\n",
        "from langchain.chains import LLMChain\n",
        "from langchain.chains import SequentialChain\n",
        "\n",
        "model = \"tiiuae/falcon-7b-instruct\"\n",
        "\n",
        "tokenizer = AutoTokenizer.from_pretrained(model)\n",
        "\n",
        "pipeline = pipeline(\n",
        "    \"text-generation\", #task\n",
        "    model=model,\n",
        "    tokenizer=tokenizer,\n",
        "    torch_dtype=torch.bfloat16,\n",
        "    trust_remote_code=True,\n",
        "    device_map=\"auto\",\n",
        "    max_length=100,\n",
        "    do_sample=True,\n",
        "    top_k=10,\n",
        "    num_return_sequences=1,\n",
        "    eos_token_id=tokenizer.eos_token_id\n",
        ")\n",
        "llm = HuggingFacePipeline(pipeline = pipeline, model_kwargs = {'temperature':0.6})\n",
        "def generate_restaurant_name_and_items(cuisine):\n",
        "  promt_template_name = PromptTemplate(\n",
        "      input_variables = ['cuisine'],\n",
        "      template = \"You are an intelligent chatbot. Answer the question Like a human and Don't give me choices you only choose one.I want to open a restaurant for {cuisine} food. Suggest a fancy name for this. in under 3 words and choose the first option\"\n",
        "  )\n",
        "  name_chain = LLMChain(llm=llm,prompt=promt_template_name,output_key='restaurant_name')\n",
        "  promt_template_name = PromptTemplate(\n",
        "      input_variables = ['restaurant_name'],\n",
        "      template = \"suggest some menu item names for {restaurant_name}.\"\n",
        "  )\n",
        "  food_chain = LLMChain(llm=llm,prompt=promt_template_name,output_key='menu_items')\n",
        "\n",
        "\n",
        "  chain = SequentialChain(\n",
        "      chains = [name_chain,food_chain],\n",
        "      input_variables = ['cuisine'],\n",
        "      output_variables=['restaurant_name','menu_items']\n",
        "  )\n",
        "  response=chain({'cuisine':cuisine})\n",
        "  return response"
      ],
      "metadata": {
        "colab": {
          "base_uri": "https://localhost:8080/"
        },
        "id": "3mrI7ZLjnIjk",
        "outputId": "5809e35a-a3f0-40b6-a40c-00062294a9ab"
      },
      "execution_count": 2,
      "outputs": [
        {
          "output_type": "stream",
          "name": "stdout",
          "text": [
            "Overwriting main.py\n"
          ]
        }
      ]
    },
    {
      "cell_type": "code",
      "source": [
        "# from langchain import HuggingFacePipeline\n",
        "# from transformers import AutoTokenizer, pipeline\n",
        "# import torch\n",
        "# from langchain.prompts import PromptTemplate\n",
        "# from langchain.chains import LLMChain\n",
        "# from langchain.chains import SequentialChain\n",
        "\n",
        "# model = \"tiiuae/falcon-7b-instruct\"\n",
        "\n",
        "# tokenizer = AutoTokenizer.from_pretrained(model)\n",
        "\n",
        "# pipeline = pipeline(\n",
        "#     \"text-generation\", #task\n",
        "#     model=model,\n",
        "#     tokenizer=tokenizer,\n",
        "#     torch_dtype=torch.bfloat16,\n",
        "#     trust_remote_code=True,\n",
        "#     device_map=\"auto\",\n",
        "#     max_length=100,\n",
        "#     do_sample=True,\n",
        "#     top_k=10,\n",
        "#     num_return_sequences=1,\n",
        "#     eos_token_id=tokenizer.eos_token_id\n",
        "# )"
      ],
      "metadata": {
        "colab": {
          "base_uri": "https://localhost:8080/",
          "height": 49,
          "referenced_widgets": [
            "8cc6d10200c244fbb5764805ddabfd6a",
            "b74a26a842554de89eeed165e33aa222",
            "24f7008bada94f8caba1210c295af01e",
            "61f912a673fd4acca559272353e91438",
            "560cb505caa84b7bbcb99075983a855c",
            "49fad07e389a4dc9a940c32d140f61ae",
            "c8242137a980454b91c469a0bdbff7f4",
            "95345ae448164f30b365bc05c6f1a256",
            "af7ae10f70544238a6fb9fea3c52481c",
            "78e8e80f3d8145a5ba039082c3895448",
            "1c4338184ce245a7b6029d78ca46f418"
          ]
        },
        "id": "kYp0eZ6a1xgP",
        "outputId": "42aefc07-405c-4677-bcd9-462eb0a2edb8"
      },
      "execution_count": null,
      "outputs": [
        {
          "output_type": "display_data",
          "data": {
            "text/plain": [
              "Loading checkpoint shards:   0%|          | 0/2 [00:00<?, ?it/s]"
            ],
            "application/vnd.jupyter.widget-view+json": {
              "version_major": 2,
              "version_minor": 0,
              "model_id": "8cc6d10200c244fbb5764805ddabfd6a"
            }
          },
          "metadata": {}
        }
      ]
    },
    {
      "cell_type": "code",
      "source": [
        "# llm = HuggingFacePipeline(pipeline = pipeline, model_kwargs = {'temperature':0.6})"
      ],
      "metadata": {
        "id": "87ePxqum14w3"
      },
      "execution_count": null,
      "outputs": []
    },
    {
      "cell_type": "code",
      "source": [
        "# def generate_restaurant_name_and_items(cuisine):\n",
        "#   promt_template_name = PromptTemplate(\n",
        "#       input_variables = ['cuisine'],\n",
        "#       template = \"You are an intelligent chatbot. Answer the question Like a human and Don't give me choices you only choose one.I want to open a restaurant for {cuisine} food. Suggest a fancy name for this. in under 3 words and choose the first option\"\n",
        "#   )\n",
        "#   name_chain = LLMChain(llm=llm,prompt=promt_template_name,output_key='restaurant_name')\n",
        "#   promt_template_name = PromptTemplate(\n",
        "#       input_variables = ['restaurant_name'],\n",
        "#       template = \"suggest some menu item names for {restaurant_name}.\"\n",
        "#   )\n",
        "#   food_chain = LLMChain(llm=llm,prompt=promt_template_name,output_key='menu_items')\n",
        "\n",
        "\n",
        "#   chain = SequentialChain(\n",
        "#       chains = [name_chain,food_chain],\n",
        "#       input_variables = ['cuisine'],\n",
        "#       output_variables=['restaurant_name','menu_items']\n",
        "#   )\n",
        "#   response=chain({'cuisine':cuisine})\n",
        "#   return response\n",
        "# print(generate_restaurant_name_and_items('indian'))"
      ],
      "metadata": {
        "id": "pbNIclyDLW4h"
      },
      "execution_count": null,
      "outputs": []
    },
    {
      "cell_type": "code",
      "source": [
        "!python /content/main.py"
      ],
      "metadata": {
        "colab": {
          "base_uri": "https://localhost:8080/"
        },
        "id": "0F5nFagunhzM",
        "outputId": "7cdf65c4-3749-43b8-b841-fe92fb49e53d"
      },
      "execution_count": 5,
      "outputs": [
        {
          "output_type": "stream",
          "name": "stdout",
          "text": [
            "2023-09-19 13:36:55.405012: W tensorflow/compiler/tf2tensorrt/utils/py_utils.cc:38] TF-TRT Warning: Could not find TensorRT\n",
            "Loading checkpoint shards: 100% 2/2 [01:10<00:00, 35.23s/it]\n"
          ]
        }
      ]
    },
    {
      "cell_type": "code",
      "source": [
        "# from main import generate_restaurant_name_and_items\n",
        "# print(generate_restaurant_name_and_items('indian'))"
      ],
      "metadata": {
        "id": "76bj6310oYMJ"
      },
      "execution_count": null,
      "outputs": []
    },
    {
      "cell_type": "code",
      "source": [
        "%%writefile app.py\n",
        "import streamlit as st\n",
        "\n",
        "from main import generate_restaurant_name_and_items\n",
        "st.title(\"Restaurant Name Generator\")\n",
        "cuisine = st.sidebar.selectbox(\"Pick a Cuisine\", (\"Indian\", \"Italian\", \"Mexican\", \"Arabic\", \"American\"))\n",
        "if cuisine:\n",
        "    response = generate_restaurant_name_and_items(cuisine)\n",
        "    st.header(response['restaurant_name'].strip())\n",
        "    menu_items = response['menu_items'].strip().split(\",\")\n",
        "    st.write(\"**Menu Items**\")\n",
        "    for item in menu_items:\n",
        "        st.write(\"-\", item)\n"
      ],
      "metadata": {
        "colab": {
          "base_uri": "https://localhost:8080/"
        },
        "id": "CJjbf0yKKlVT",
        "outputId": "863f59b3-0c65-47cf-f55a-3c4639b741a8"
      },
      "execution_count": 6,
      "outputs": [
        {
          "output_type": "stream",
          "name": "stdout",
          "text": [
            "Overwriting app.py\n"
          ]
        }
      ]
    },
    {
      "cell_type": "code",
      "source": [
        "!streamlit run app.py & npx localtunnel --port 8501"
      ],
      "metadata": {
        "id": "3dmHmROgTMhM"
      },
      "execution_count": null,
      "outputs": []
    }
  ]
}